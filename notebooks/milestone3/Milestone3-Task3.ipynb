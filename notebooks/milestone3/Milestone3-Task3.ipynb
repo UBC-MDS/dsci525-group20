{
 "cells": [
  {
   "cell_type": "markdown",
   "metadata": {},
   "source": [
    "# Task 3"
   ]
  },
  {
   "cell_type": "markdown",
   "metadata": {},
   "source": [
    "# Imports"
   ]
  },
  {
   "cell_type": "code",
   "execution_count": 1,
   "metadata": {},
   "outputs": [],
   "source": [
    "import numpy as np\n",
    "import pandas as pd\n",
    "import json\n",
    "from joblib import dump, load\n",
    "from sklearn.metrics import mean_squared_error\n",
    "from sklearn.ensemble import RandomForestRegressor\n",
    "from sklearn.model_selection import train_test_split\n",
    "import matplotlib.pyplot as plt\n",
    "plt.style.use('ggplot')\n",
    "plt.rcParams.update({'font.size': 16, 'axes.labelweight': 'bold', 'figure.figsize': (8,6)})\n",
    "## add any other additional packages that you need. You are free to use any packages for vizualization."
   ]
  },
  {
   "cell_type": "markdown",
   "metadata": {},
   "source": [
    "## Part 1:"
   ]
  },
  {
   "cell_type": "markdown",
   "metadata": {},
   "source": [
    "Recall as a final goal of this project. We want to build and deploy ensemble machine learning models in the cloud, where features are outputs of different climate models and the target is the actual rainfall observation. In this milestone, you'll actually build these ensemble machine learning models in the cloud.  \n",
    "\n",
    "**Your tasks:**\n",
    "\n",
    "1. Read the data CSV from your s3 bucket. \n",
    "2. Drop rows with nans. \n",
    "3. Split the data into train (80%) and test (20%) portions with `random_state=123`. \n",
    "4. Carry out EDA of your choice on the train split. \n",
    "5. Train ensemble machine learning model using `RandomForestRegressor` and evaluate with metric of your choice (e.g., `RMSE`) by considering `Observed` as the target column. \n",
    "6. Discuss your results. Are you getting better results with ensemble models compared to the individual climate models? \n",
    "\n",
    "> Recall that individual columns in the data are predictions of different climate models. "
   ]
  },
  {
   "cell_type": "markdown",
   "metadata": {},
   "source": [
    "## Step1: Read the data CSV from your s3 bucket."
   ]
  },
  {
   "cell_type": "code",
   "execution_count": 2,
   "metadata": {},
   "outputs": [],
   "source": [
    "## Depending on the permissions that you provided to your bucket you might need to provide your aws credentials\n",
    "## to read from the bucket, if so provide with your credentials and pass as storage_options=aws_credentials\n",
    "#with open('/srv/data/my_shared_data_folder/credential.json') as f:\n",
    "#    aws_credentials = json.load(f)\n",
    "\n",
    "df = pd.read_csv(\n",
    "    \"s3://mds-s3-20/output/ml_data_SYD.csv\",\n",
    "    index_col=0,\n",
    "    parse_dates=True\n",
    ")"
   ]
  },
  {
   "cell_type": "code",
   "execution_count": null,
   "metadata": {},
   "outputs": [],
   "source": [
    "## Use your ML skills to get from step 1 to step 6"
   ]
  },
  {
   "cell_type": "code",
   "execution_count": 3,
   "metadata": {},
   "outputs": [
    {
     "data": {
      "text/plain": [
       "(46020, 26)"
      ]
     },
     "execution_count": 3,
     "metadata": {},
     "output_type": "execute_result"
    }
   ],
   "source": [
    "df.shape"
   ]
  },
  {
   "cell_type": "code",
   "execution_count": 4,
   "metadata": {},
   "outputs": [
    {
     "data": {
      "text/html": [
       "<div>\n",
       "<style scoped>\n",
       "    .dataframe tbody tr th:only-of-type {\n",
       "        vertical-align: middle;\n",
       "    }\n",
       "\n",
       "    .dataframe tbody tr th {\n",
       "        vertical-align: top;\n",
       "    }\n",
       "\n",
       "    .dataframe thead th {\n",
       "        text-align: right;\n",
       "    }\n",
       "</style>\n",
       "<table border=\"1\" class=\"dataframe\">\n",
       "  <thead>\n",
       "    <tr style=\"text-align: right;\">\n",
       "      <th></th>\n",
       "      <th>ACCESS-CM2</th>\n",
       "      <th>ACCESS-ESM1-5</th>\n",
       "      <th>AWI-ESM-1-1-LR</th>\n",
       "      <th>BCC-CSM2-MR</th>\n",
       "      <th>BCC-ESM1</th>\n",
       "      <th>CMCC-CM2-HR4</th>\n",
       "      <th>CMCC-CM2-SR5</th>\n",
       "      <th>CMCC-ESM2</th>\n",
       "      <th>CanESM5</th>\n",
       "      <th>EC-Earth3-Veg-LR</th>\n",
       "      <th>...</th>\n",
       "      <th>MPI-ESM-1-2-HAM</th>\n",
       "      <th>MPI-ESM1-2-HR</th>\n",
       "      <th>MPI-ESM1-2-LR</th>\n",
       "      <th>MRI-ESM2-0</th>\n",
       "      <th>NESM3</th>\n",
       "      <th>NorESM2-LM</th>\n",
       "      <th>NorESM2-MM</th>\n",
       "      <th>Observed</th>\n",
       "      <th>SAM0-UNICON</th>\n",
       "      <th>TaiESM1</th>\n",
       "    </tr>\n",
       "    <tr>\n",
       "      <th>time</th>\n",
       "      <th></th>\n",
       "      <th></th>\n",
       "      <th></th>\n",
       "      <th></th>\n",
       "      <th></th>\n",
       "      <th></th>\n",
       "      <th></th>\n",
       "      <th></th>\n",
       "      <th></th>\n",
       "      <th></th>\n",
       "      <th></th>\n",
       "      <th></th>\n",
       "      <th></th>\n",
       "      <th></th>\n",
       "      <th></th>\n",
       "      <th></th>\n",
       "      <th></th>\n",
       "      <th></th>\n",
       "      <th></th>\n",
       "      <th></th>\n",
       "      <th></th>\n",
       "    </tr>\n",
       "  </thead>\n",
       "  <tbody>\n",
       "    <tr>\n",
       "      <th>1889-01-01</th>\n",
       "      <td>0.040427</td>\n",
       "      <td>1.814552</td>\n",
       "      <td>35.579336</td>\n",
       "      <td>4.268112e+00</td>\n",
       "      <td>1.107466e-03</td>\n",
       "      <td>11.410537</td>\n",
       "      <td>3.322009e-08</td>\n",
       "      <td>2.668800</td>\n",
       "      <td>1.321215</td>\n",
       "      <td>1.515293</td>\n",
       "      <td>...</td>\n",
       "      <td>4.244226e-13</td>\n",
       "      <td>1.390174e-13</td>\n",
       "      <td>6.537884e-05</td>\n",
       "      <td>3.445495e-06</td>\n",
       "      <td>1.576096e+01</td>\n",
       "      <td>4.759651e-05</td>\n",
       "      <td>2.451075</td>\n",
       "      <td>0.006612</td>\n",
       "      <td>0.221324</td>\n",
       "      <td>2.257933</td>\n",
       "    </tr>\n",
       "    <tr>\n",
       "      <th>1889-01-02</th>\n",
       "      <td>0.073777</td>\n",
       "      <td>0.303965</td>\n",
       "      <td>4.596520</td>\n",
       "      <td>1.190141e+00</td>\n",
       "      <td>1.015323e-04</td>\n",
       "      <td>4.014984</td>\n",
       "      <td>1.312700e+00</td>\n",
       "      <td>0.946211</td>\n",
       "      <td>2.788724</td>\n",
       "      <td>4.771375</td>\n",
       "      <td>...</td>\n",
       "      <td>4.409552e+00</td>\n",
       "      <td>1.222283e-01</td>\n",
       "      <td>1.049131e-13</td>\n",
       "      <td>4.791993e-09</td>\n",
       "      <td>3.675510e-01</td>\n",
       "      <td>4.350863e-01</td>\n",
       "      <td>0.477231</td>\n",
       "      <td>0.090422</td>\n",
       "      <td>3.757179</td>\n",
       "      <td>2.287381</td>\n",
       "    </tr>\n",
       "    <tr>\n",
       "      <th>1889-01-03</th>\n",
       "      <td>0.232656</td>\n",
       "      <td>0.019976</td>\n",
       "      <td>5.927467</td>\n",
       "      <td>1.003845e-09</td>\n",
       "      <td>1.760345e-05</td>\n",
       "      <td>9.660565</td>\n",
       "      <td>9.103720e+00</td>\n",
       "      <td>0.431999</td>\n",
       "      <td>0.003672</td>\n",
       "      <td>4.233980</td>\n",
       "      <td>...</td>\n",
       "      <td>2.269300e-01</td>\n",
       "      <td>3.762301e-01</td>\n",
       "      <td>9.758706e-14</td>\n",
       "      <td>6.912302e-01</td>\n",
       "      <td>1.562869e-01</td>\n",
       "      <td>9.561101e+00</td>\n",
       "      <td>0.023083</td>\n",
       "      <td>1.401452</td>\n",
       "      <td>0.253357</td>\n",
       "      <td>1.199909</td>\n",
       "    </tr>\n",
       "    <tr>\n",
       "      <th>1889-01-04</th>\n",
       "      <td>0.911319</td>\n",
       "      <td>13.623777</td>\n",
       "      <td>8.029624</td>\n",
       "      <td>8.225225e-02</td>\n",
       "      <td>1.808932e-01</td>\n",
       "      <td>3.951528</td>\n",
       "      <td>1.317160e+01</td>\n",
       "      <td>0.368693</td>\n",
       "      <td>0.013578</td>\n",
       "      <td>15.252495</td>\n",
       "      <td>...</td>\n",
       "      <td>2.344586e-02</td>\n",
       "      <td>4.214019e-01</td>\n",
       "      <td>7.060915e-03</td>\n",
       "      <td>3.835721e-02</td>\n",
       "      <td>2.472226e-07</td>\n",
       "      <td>5.301038e-01</td>\n",
       "      <td>0.002699</td>\n",
       "      <td>14.869798</td>\n",
       "      <td>2.185454</td>\n",
       "      <td>2.106737</td>\n",
       "    </tr>\n",
       "    <tr>\n",
       "      <th>1889-01-05</th>\n",
       "      <td>0.698013</td>\n",
       "      <td>0.021048</td>\n",
       "      <td>2.132686</td>\n",
       "      <td>2.496841e+00</td>\n",
       "      <td>4.708019e-09</td>\n",
       "      <td>2.766362</td>\n",
       "      <td>1.822940e+01</td>\n",
       "      <td>0.339267</td>\n",
       "      <td>0.002468</td>\n",
       "      <td>11.920356</td>\n",
       "      <td>...</td>\n",
       "      <td>4.270161e-13</td>\n",
       "      <td>1.879692e-01</td>\n",
       "      <td>4.504985e+00</td>\n",
       "      <td>3.506923e-07</td>\n",
       "      <td>1.949792e-13</td>\n",
       "      <td>1.460928e-10</td>\n",
       "      <td>0.001026</td>\n",
       "      <td>0.467628</td>\n",
       "      <td>2.766507</td>\n",
       "      <td>1.763335</td>\n",
       "    </tr>\n",
       "  </tbody>\n",
       "</table>\n",
       "<p>5 rows × 26 columns</p>\n",
       "</div>"
      ],
      "text/plain": [
       "            ACCESS-CM2  ACCESS-ESM1-5  AWI-ESM-1-1-LR   BCC-CSM2-MR  \\\n",
       "time                                                                  \n",
       "1889-01-01    0.040427       1.814552       35.579336  4.268112e+00   \n",
       "1889-01-02    0.073777       0.303965        4.596520  1.190141e+00   \n",
       "1889-01-03    0.232656       0.019976        5.927467  1.003845e-09   \n",
       "1889-01-04    0.911319      13.623777        8.029624  8.225225e-02   \n",
       "1889-01-05    0.698013       0.021048        2.132686  2.496841e+00   \n",
       "\n",
       "                BCC-ESM1  CMCC-CM2-HR4  CMCC-CM2-SR5  CMCC-ESM2   CanESM5  \\\n",
       "time                                                                        \n",
       "1889-01-01  1.107466e-03     11.410537  3.322009e-08   2.668800  1.321215   \n",
       "1889-01-02  1.015323e-04      4.014984  1.312700e+00   0.946211  2.788724   \n",
       "1889-01-03  1.760345e-05      9.660565  9.103720e+00   0.431999  0.003672   \n",
       "1889-01-04  1.808932e-01      3.951528  1.317160e+01   0.368693  0.013578   \n",
       "1889-01-05  4.708019e-09      2.766362  1.822940e+01   0.339267  0.002468   \n",
       "\n",
       "            EC-Earth3-Veg-LR  ...  MPI-ESM-1-2-HAM  MPI-ESM1-2-HR  \\\n",
       "time                          ...                                   \n",
       "1889-01-01          1.515293  ...     4.244226e-13   1.390174e-13   \n",
       "1889-01-02          4.771375  ...     4.409552e+00   1.222283e-01   \n",
       "1889-01-03          4.233980  ...     2.269300e-01   3.762301e-01   \n",
       "1889-01-04         15.252495  ...     2.344586e-02   4.214019e-01   \n",
       "1889-01-05         11.920356  ...     4.270161e-13   1.879692e-01   \n",
       "\n",
       "            MPI-ESM1-2-LR    MRI-ESM2-0         NESM3    NorESM2-LM  \\\n",
       "time                                                                  \n",
       "1889-01-01   6.537884e-05  3.445495e-06  1.576096e+01  4.759651e-05   \n",
       "1889-01-02   1.049131e-13  4.791993e-09  3.675510e-01  4.350863e-01   \n",
       "1889-01-03   9.758706e-14  6.912302e-01  1.562869e-01  9.561101e+00   \n",
       "1889-01-04   7.060915e-03  3.835721e-02  2.472226e-07  5.301038e-01   \n",
       "1889-01-05   4.504985e+00  3.506923e-07  1.949792e-13  1.460928e-10   \n",
       "\n",
       "            NorESM2-MM   Observed  SAM0-UNICON   TaiESM1  \n",
       "time                                                      \n",
       "1889-01-01    2.451075   0.006612     0.221324  2.257933  \n",
       "1889-01-02    0.477231   0.090422     3.757179  2.287381  \n",
       "1889-01-03    0.023083   1.401452     0.253357  1.199909  \n",
       "1889-01-04    0.002699  14.869798     2.185454  2.106737  \n",
       "1889-01-05    0.001026   0.467628     2.766507  1.763335  \n",
       "\n",
       "[5 rows x 26 columns]"
      ]
     },
     "execution_count": 4,
     "metadata": {},
     "output_type": "execute_result"
    }
   ],
   "source": [
    "df.head()"
   ]
  },
  {
   "cell_type": "markdown",
   "metadata": {},
   "source": [
    "## Step2: Drop rows with nans"
   ]
  },
  {
   "cell_type": "code",
   "execution_count": 5,
   "metadata": {},
   "outputs": [
    {
     "data": {
      "text/plain": [
       "(45989, 26)"
      ]
     },
     "execution_count": 5,
     "metadata": {},
     "output_type": "execute_result"
    }
   ],
   "source": [
    "df = df.dropna()\n",
    "\n",
    "df.shape"
   ]
  },
  {
   "cell_type": "markdown",
   "metadata": {},
   "source": [
    "## Step3: Split the data into train (80%) and test (20%) portions "
   ]
  },
  {
   "cell_type": "code",
   "execution_count": 7,
   "metadata": {},
   "outputs": [],
   "source": [
    "train_df, test_df = train_test_split(df, test_size=0.2, random_state=123)\n",
    "\n",
    "X_train, y_train = train_df.drop(columns=\"Observed\"), train_df[\"Observed\"]\n",
    "X_test, y_test = test_df.drop(columns=\"Observed\"), test_df[\"Observed\"]"
   ]
  },
  {
   "cell_type": "markdown",
   "metadata": {},
   "source": [
    "## Step4: Carry out EDA of your choice on the train split. "
   ]
  },
  {
   "cell_type": "code",
   "execution_count": 8,
   "metadata": {},
   "outputs": [
    {
     "data": {
      "text/plain": [
       "(36791, 26)"
      ]
     },
     "execution_count": 8,
     "metadata": {},
     "output_type": "execute_result"
    }
   ],
   "source": [
    "train_df.shape"
   ]
  },
  {
   "cell_type": "code",
   "execution_count": 9,
   "metadata": {},
   "outputs": [
    {
     "data": {
      "text/plain": [
       "(36791, 25)"
      ]
     },
     "execution_count": 9,
     "metadata": {},
     "output_type": "execute_result"
    }
   ],
   "source": [
    "X_train.shape"
   ]
  },
  {
   "cell_type": "markdown",
   "metadata": {},
   "source": [
    "**observation:**\n",
    "\n",
    "The `train_df`(train dataset) has $36791$ rows of data points and $25$ feature which is individual models for predicting the rainfalls in Sidney. The target variable is the `observed_rainfall`."
   ]
  },
  {
   "cell_type": "code",
   "execution_count": 10,
   "metadata": {},
   "outputs": [
    {
     "data": {
      "text/html": [
       "<div>\n",
       "<style scoped>\n",
       "    .dataframe tbody tr th:only-of-type {\n",
       "        vertical-align: middle;\n",
       "    }\n",
       "\n",
       "    .dataframe tbody tr th {\n",
       "        vertical-align: top;\n",
       "    }\n",
       "\n",
       "    .dataframe thead th {\n",
       "        text-align: right;\n",
       "    }\n",
       "</style>\n",
       "<table border=\"1\" class=\"dataframe\">\n",
       "  <thead>\n",
       "    <tr style=\"text-align: right;\">\n",
       "      <th></th>\n",
       "      <th>count</th>\n",
       "      <th>mean</th>\n",
       "      <th>std</th>\n",
       "      <th>min</th>\n",
       "      <th>25%</th>\n",
       "      <th>50%</th>\n",
       "      <th>75%</th>\n",
       "      <th>max</th>\n",
       "    </tr>\n",
       "  </thead>\n",
       "  <tbody>\n",
       "    <tr>\n",
       "      <th>ACCESS-CM2</th>\n",
       "      <td>36791.0</td>\n",
       "      <td>2.4294</td>\n",
       "      <td>6.7914</td>\n",
       "      <td>0.0</td>\n",
       "      <td>0.0541</td>\n",
       "      <td>0.1930</td>\n",
       "      <td>1.4455</td>\n",
       "      <td>149.9676</td>\n",
       "    </tr>\n",
       "    <tr>\n",
       "      <th>ACCESS-ESM1-5</th>\n",
       "      <td>36791.0</td>\n",
       "      <td>2.9390</td>\n",
       "      <td>7.0488</td>\n",
       "      <td>0.0</td>\n",
       "      <td>0.0212</td>\n",
       "      <td>0.4928</td>\n",
       "      <td>2.3985</td>\n",
       "      <td>157.6057</td>\n",
       "    </tr>\n",
       "    <tr>\n",
       "      <th>AWI-ESM-1-1-LR</th>\n",
       "      <td>36791.0</td>\n",
       "      <td>3.7163</td>\n",
       "      <td>7.2809</td>\n",
       "      <td>0.0</td>\n",
       "      <td>0.0296</td>\n",
       "      <td>0.5923</td>\n",
       "      <td>3.6017</td>\n",
       "      <td>89.4657</td>\n",
       "    </tr>\n",
       "    <tr>\n",
       "      <th>BCC-CSM2-MR</th>\n",
       "      <td>36791.0</td>\n",
       "      <td>2.2031</td>\n",
       "      <td>6.5182</td>\n",
       "      <td>0.0</td>\n",
       "      <td>0.0005</td>\n",
       "      <td>0.0964</td>\n",
       "      <td>1.3189</td>\n",
       "      <td>134.4652</td>\n",
       "    </tr>\n",
       "    <tr>\n",
       "      <th>BCC-ESM1</th>\n",
       "      <td>36791.0</td>\n",
       "      <td>2.7484</td>\n",
       "      <td>5.9974</td>\n",
       "      <td>0.0</td>\n",
       "      <td>0.0024</td>\n",
       "      <td>0.2987</td>\n",
       "      <td>2.4779</td>\n",
       "      <td>87.1347</td>\n",
       "    </tr>\n",
       "    <tr>\n",
       "      <th>CMCC-CM2-HR4</th>\n",
       "      <td>36791.0</td>\n",
       "      <td>3.0928</td>\n",
       "      <td>6.4593</td>\n",
       "      <td>0.0</td>\n",
       "      <td>0.1383</td>\n",
       "      <td>0.6335</td>\n",
       "      <td>3.1826</td>\n",
       "      <td>124.9524</td>\n",
       "    </tr>\n",
       "    <tr>\n",
       "      <th>CMCC-CM2-SR5</th>\n",
       "      <td>36791.0</td>\n",
       "      <td>3.5752</td>\n",
       "      <td>7.3535</td>\n",
       "      <td>-0.0</td>\n",
       "      <td>0.0890</td>\n",
       "      <td>0.8279</td>\n",
       "      <td>3.7277</td>\n",
       "      <td>140.1478</td>\n",
       "    </tr>\n",
       "    <tr>\n",
       "      <th>CMCC-ESM2</th>\n",
       "      <td>36791.0</td>\n",
       "      <td>3.4898</td>\n",
       "      <td>7.0392</td>\n",
       "      <td>-0.0</td>\n",
       "      <td>0.0927</td>\n",
       "      <td>0.8486</td>\n",
       "      <td>3.6300</td>\n",
       "      <td>137.5916</td>\n",
       "    </tr>\n",
       "    <tr>\n",
       "      <th>CanESM5</th>\n",
       "      <td>36791.0</td>\n",
       "      <td>2.8793</td>\n",
       "      <td>6.8989</td>\n",
       "      <td>0.0</td>\n",
       "      <td>0.0225</td>\n",
       "      <td>0.3376</td>\n",
       "      <td>2.5589</td>\n",
       "      <td>135.5698</td>\n",
       "    </tr>\n",
       "    <tr>\n",
       "      <th>EC-Earth3-Veg-LR</th>\n",
       "      <td>36791.0</td>\n",
       "      <td>2.5654</td>\n",
       "      <td>5.7327</td>\n",
       "      <td>-0.0</td>\n",
       "      <td>0.0120</td>\n",
       "      <td>0.4297</td>\n",
       "      <td>2.2959</td>\n",
       "      <td>96.4238</td>\n",
       "    </tr>\n",
       "    <tr>\n",
       "      <th>FGOALS-g3</th>\n",
       "      <td>36791.0</td>\n",
       "      <td>1.7359</td>\n",
       "      <td>4.4726</td>\n",
       "      <td>0.0</td>\n",
       "      <td>0.0271</td>\n",
       "      <td>0.2854</td>\n",
       "      <td>1.3357</td>\n",
       "      <td>105.0902</td>\n",
       "    </tr>\n",
       "    <tr>\n",
       "      <th>GFDL-CM4</th>\n",
       "      <td>36791.0</td>\n",
       "      <td>1.8042</td>\n",
       "      <td>5.7154</td>\n",
       "      <td>0.0</td>\n",
       "      <td>0.0039</td>\n",
       "      <td>0.1211</td>\n",
       "      <td>0.9467</td>\n",
       "      <td>123.1511</td>\n",
       "    </tr>\n",
       "    <tr>\n",
       "      <th>INM-CM4-8</th>\n",
       "      <td>36791.0</td>\n",
       "      <td>3.8596</td>\n",
       "      <td>7.5554</td>\n",
       "      <td>0.0</td>\n",
       "      <td>0.1155</td>\n",
       "      <td>1.2201</td>\n",
       "      <td>4.2060</td>\n",
       "      <td>134.2616</td>\n",
       "    </tr>\n",
       "    <tr>\n",
       "      <th>INM-CM5-0</th>\n",
       "      <td>36791.0</td>\n",
       "      <td>4.0788</td>\n",
       "      <td>8.2799</td>\n",
       "      <td>0.0</td>\n",
       "      <td>0.0817</td>\n",
       "      <td>1.1660</td>\n",
       "      <td>4.2605</td>\n",
       "      <td>133.9738</td>\n",
       "    </tr>\n",
       "    <tr>\n",
       "      <th>KIOST-ESM</th>\n",
       "      <td>36791.0</td>\n",
       "      <td>1.6833</td>\n",
       "      <td>4.2620</td>\n",
       "      <td>0.0</td>\n",
       "      <td>0.0195</td>\n",
       "      <td>0.2923</td>\n",
       "      <td>1.5705</td>\n",
       "      <td>100.2324</td>\n",
       "    </tr>\n",
       "    <tr>\n",
       "      <th>MIROC6</th>\n",
       "      <td>36791.0</td>\n",
       "      <td>3.1171</td>\n",
       "      <td>7.7980</td>\n",
       "      <td>0.0</td>\n",
       "      <td>0.0187</td>\n",
       "      <td>0.3507</td>\n",
       "      <td>2.2909</td>\n",
       "      <td>167.1499</td>\n",
       "    </tr>\n",
       "    <tr>\n",
       "      <th>MPI-ESM-1-2-HAM</th>\n",
       "      <td>36791.0</td>\n",
       "      <td>3.2135</td>\n",
       "      <td>6.9793</td>\n",
       "      <td>0.0</td>\n",
       "      <td>0.0001</td>\n",
       "      <td>0.2082</td>\n",
       "      <td>2.6991</td>\n",
       "      <td>93.0677</td>\n",
       "    </tr>\n",
       "    <tr>\n",
       "      <th>MPI-ESM1-2-HR</th>\n",
       "      <td>36791.0</td>\n",
       "      <td>1.2994</td>\n",
       "      <td>4.8907</td>\n",
       "      <td>0.0</td>\n",
       "      <td>0.0000</td>\n",
       "      <td>0.0016</td>\n",
       "      <td>0.3465</td>\n",
       "      <td>109.5008</td>\n",
       "    </tr>\n",
       "    <tr>\n",
       "      <th>MPI-ESM1-2-LR</th>\n",
       "      <td>36791.0</td>\n",
       "      <td>2.0412</td>\n",
       "      <td>5.3478</td>\n",
       "      <td>0.0</td>\n",
       "      <td>0.0000</td>\n",
       "      <td>0.1140</td>\n",
       "      <td>1.1924</td>\n",
       "      <td>74.8437</td>\n",
       "    </tr>\n",
       "    <tr>\n",
       "      <th>MRI-ESM2-0</th>\n",
       "      <td>36791.0</td>\n",
       "      <td>1.5332</td>\n",
       "      <td>5.0003</td>\n",
       "      <td>0.0</td>\n",
       "      <td>0.0001</td>\n",
       "      <td>0.0319</td>\n",
       "      <td>0.6733</td>\n",
       "      <td>101.6900</td>\n",
       "    </tr>\n",
       "    <tr>\n",
       "      <th>NESM3</th>\n",
       "      <td>36791.0</td>\n",
       "      <td>1.7268</td>\n",
       "      <td>4.8728</td>\n",
       "      <td>0.0</td>\n",
       "      <td>0.0000</td>\n",
       "      <td>0.0499</td>\n",
       "      <td>0.7875</td>\n",
       "      <td>80.4578</td>\n",
       "    </tr>\n",
       "    <tr>\n",
       "      <th>NorESM2-LM</th>\n",
       "      <td>36791.0</td>\n",
       "      <td>2.4583</td>\n",
       "      <td>5.8153</td>\n",
       "      <td>0.0</td>\n",
       "      <td>0.0055</td>\n",
       "      <td>0.1696</td>\n",
       "      <td>1.8226</td>\n",
       "      <td>114.8981</td>\n",
       "    </tr>\n",
       "    <tr>\n",
       "      <th>NorESM2-MM</th>\n",
       "      <td>36791.0</td>\n",
       "      <td>2.8905</td>\n",
       "      <td>7.1291</td>\n",
       "      <td>0.0</td>\n",
       "      <td>0.0100</td>\n",
       "      <td>0.2559</td>\n",
       "      <td>2.4507</td>\n",
       "      <td>163.1645</td>\n",
       "    </tr>\n",
       "    <tr>\n",
       "      <th>Observed</th>\n",
       "      <td>36791.0</td>\n",
       "      <td>2.7263</td>\n",
       "      <td>8.0783</td>\n",
       "      <td>0.0</td>\n",
       "      <td>0.0081</td>\n",
       "      <td>0.1632</td>\n",
       "      <td>1.6128</td>\n",
       "      <td>192.9330</td>\n",
       "    </tr>\n",
       "    <tr>\n",
       "      <th>SAM0-UNICON</th>\n",
       "      <td>36791.0</td>\n",
       "      <td>3.3836</td>\n",
       "      <td>7.9274</td>\n",
       "      <td>-0.0</td>\n",
       "      <td>0.0365</td>\n",
       "      <td>0.6540</td>\n",
       "      <td>3.2751</td>\n",
       "      <td>154.9718</td>\n",
       "    </tr>\n",
       "    <tr>\n",
       "      <th>TaiESM1</th>\n",
       "      <td>36791.0</td>\n",
       "      <td>3.4178</td>\n",
       "      <td>7.5586</td>\n",
       "      <td>-0.0</td>\n",
       "      <td>0.0493</td>\n",
       "      <td>0.6675</td>\n",
       "      <td>3.2344</td>\n",
       "      <td>167.3562</td>\n",
       "    </tr>\n",
       "  </tbody>\n",
       "</table>\n",
       "</div>"
      ],
      "text/plain": [
       "                    count    mean     std  min     25%     50%     75%  \\\n",
       "ACCESS-CM2        36791.0  2.4294  6.7914  0.0  0.0541  0.1930  1.4455   \n",
       "ACCESS-ESM1-5     36791.0  2.9390  7.0488  0.0  0.0212  0.4928  2.3985   \n",
       "AWI-ESM-1-1-LR    36791.0  3.7163  7.2809  0.0  0.0296  0.5923  3.6017   \n",
       "BCC-CSM2-MR       36791.0  2.2031  6.5182  0.0  0.0005  0.0964  1.3189   \n",
       "BCC-ESM1          36791.0  2.7484  5.9974  0.0  0.0024  0.2987  2.4779   \n",
       "CMCC-CM2-HR4      36791.0  3.0928  6.4593  0.0  0.1383  0.6335  3.1826   \n",
       "CMCC-CM2-SR5      36791.0  3.5752  7.3535 -0.0  0.0890  0.8279  3.7277   \n",
       "CMCC-ESM2         36791.0  3.4898  7.0392 -0.0  0.0927  0.8486  3.6300   \n",
       "CanESM5           36791.0  2.8793  6.8989  0.0  0.0225  0.3376  2.5589   \n",
       "EC-Earth3-Veg-LR  36791.0  2.5654  5.7327 -0.0  0.0120  0.4297  2.2959   \n",
       "FGOALS-g3         36791.0  1.7359  4.4726  0.0  0.0271  0.2854  1.3357   \n",
       "GFDL-CM4          36791.0  1.8042  5.7154  0.0  0.0039  0.1211  0.9467   \n",
       "INM-CM4-8         36791.0  3.8596  7.5554  0.0  0.1155  1.2201  4.2060   \n",
       "INM-CM5-0         36791.0  4.0788  8.2799  0.0  0.0817  1.1660  4.2605   \n",
       "KIOST-ESM         36791.0  1.6833  4.2620  0.0  0.0195  0.2923  1.5705   \n",
       "MIROC6            36791.0  3.1171  7.7980  0.0  0.0187  0.3507  2.2909   \n",
       "MPI-ESM-1-2-HAM   36791.0  3.2135  6.9793  0.0  0.0001  0.2082  2.6991   \n",
       "MPI-ESM1-2-HR     36791.0  1.2994  4.8907  0.0  0.0000  0.0016  0.3465   \n",
       "MPI-ESM1-2-LR     36791.0  2.0412  5.3478  0.0  0.0000  0.1140  1.1924   \n",
       "MRI-ESM2-0        36791.0  1.5332  5.0003  0.0  0.0001  0.0319  0.6733   \n",
       "NESM3             36791.0  1.7268  4.8728  0.0  0.0000  0.0499  0.7875   \n",
       "NorESM2-LM        36791.0  2.4583  5.8153  0.0  0.0055  0.1696  1.8226   \n",
       "NorESM2-MM        36791.0  2.8905  7.1291  0.0  0.0100  0.2559  2.4507   \n",
       "Observed          36791.0  2.7263  8.0783  0.0  0.0081  0.1632  1.6128   \n",
       "SAM0-UNICON       36791.0  3.3836  7.9274 -0.0  0.0365  0.6540  3.2751   \n",
       "TaiESM1           36791.0  3.4178  7.5586 -0.0  0.0493  0.6675  3.2344   \n",
       "\n",
       "                       max  \n",
       "ACCESS-CM2        149.9676  \n",
       "ACCESS-ESM1-5     157.6057  \n",
       "AWI-ESM-1-1-LR     89.4657  \n",
       "BCC-CSM2-MR       134.4652  \n",
       "BCC-ESM1           87.1347  \n",
       "CMCC-CM2-HR4      124.9524  \n",
       "CMCC-CM2-SR5      140.1478  \n",
       "CMCC-ESM2         137.5916  \n",
       "CanESM5           135.5698  \n",
       "EC-Earth3-Veg-LR   96.4238  \n",
       "FGOALS-g3         105.0902  \n",
       "GFDL-CM4          123.1511  \n",
       "INM-CM4-8         134.2616  \n",
       "INM-CM5-0         133.9738  \n",
       "KIOST-ESM         100.2324  \n",
       "MIROC6            167.1499  \n",
       "MPI-ESM-1-2-HAM    93.0677  \n",
       "MPI-ESM1-2-HR     109.5008  \n",
       "MPI-ESM1-2-LR      74.8437  \n",
       "MRI-ESM2-0        101.6900  \n",
       "NESM3              80.4578  \n",
       "NorESM2-LM        114.8981  \n",
       "NorESM2-MM        163.1645  \n",
       "Observed          192.9330  \n",
       "SAM0-UNICON       154.9718  \n",
       "TaiESM1           167.3562  "
      ]
     },
     "execution_count": 10,
     "metadata": {},
     "output_type": "execute_result"
    }
   ],
   "source": [
    "train_df.describe().T.round(4)"
   ]
  },
  {
   "cell_type": "markdown",
   "metadata": {},
   "source": [
    "**observation:**\n",
    "\n",
    "The average predicted rainfall (mean) and standard deviation of predicted rainfall do not vary a lot across all models. "
   ]
  },
  {
   "cell_type": "code",
   "execution_count": 11,
   "metadata": {},
   "outputs": [
    {
     "data": {
      "image/png": "[encoded data removed]",
      "text/plain": [
       "<Figure size 864x432 with 1 Axes>"
      ]
     },
     "metadata": {},
     "output_type": "display_data"
    }
   ],
   "source": [
    "plt.style.use('ggplot')\n",
    "plt.rcParams[\"figure.figsize\"] = (12, 6)\n",
    "ax = train_df.plot(kind='line')\n",
    "ax.legend(ax.get_lines(), train_df.columns,\n",
    "          loc='center left', bbox_to_anchor=(1, 0.5))\n",
    "ax.set_xlabel(\"Time\")\n",
    "ax.set_ylabel(\"Predicted rainfall (mm/day)\")\n",
    "plt.show()"
   ]
  },
  {
   "cell_type": "code",
   "execution_count": 12,
   "metadata": {},
   "outputs": [
    {
     "data": {
      "image/png": "[encoded data removed]",
      "text/plain": [
       "<Figure size 864x432 with 1 Axes>"
      ]
     },
     "metadata": {},
     "output_type": "display_data"
    }
   ],
   "source": [
    "plt.hist(train_df['Observed'], bins = 100)\n",
    "plt.xlabel('Observed amount of rainfall')\n",
    "plt.ylabel('Count')\n",
    "plt.title('Distribution of observed rainfall');"
   ]
  },
  {
   "cell_type": "markdown",
   "metadata": {},
   "source": [
    "**observation:**\n",
    "\n",
    "The distribution of observed rainfull in Sidney is quite right-skewed. It illustrates that Sidney barely rains as 0 observed rainfall accounts for much higher proportion than other amounts of rainfall."
   ]
  },
  {
   "cell_type": "code",
   "execution_count": 13,
   "metadata": {},
   "outputs": [
    {
     "data": {
      "image/png": "[encoded data removed]",
      "text/plain": [
       "<Figure size 864x432 with 1 Axes>"
      ]
     },
     "metadata": {},
     "output_type": "display_data"
    }
   ],
   "source": [
    "plt.hist(train_df.loc[:, train_df.columns != 'Observed'], bins = 100)\n",
    "plt.legend(train_df.loc[:, train_df.columns != 'Observed'].columns.values.tolist(),\n",
    "           loc='center left', \n",
    "           bbox_to_anchor=(1, 0.5))\n",
    "plt.xlabel('Predicted amount of rainfall')\n",
    "plt.ylabel('Count')\n",
    "plt.title('Distribution of predicted rainfall');"
   ]
  },
  {
   "cell_type": "markdown",
   "metadata": {},
   "source": [
    "**observation:**\n",
    "\n",
    "The distribution of the predicted rainfall is also quite right-skewed, resembling the distribution of the observed rainfull above."
   ]
  },
  {
   "cell_type": "markdown",
   "metadata": {},
   "source": [
    "## Step 5: Train ensemble machine learning model using RandomForestRegressor and evaluate with metric of your choice (e.g., RMSE) by considering Observed as the target column."
   ]
  },
  {
   "cell_type": "code",
   "execution_count": 14,
   "metadata": {},
   "outputs": [
    {
     "data": {
      "text/plain": [
       "RandomForestRegressor(random_state=123)"
      ]
     },
     "execution_count": 14,
     "metadata": {},
     "output_type": "execute_result"
    }
   ],
   "source": [
    "model = RandomForestRegressor(random_state=123)\n",
    "model.fit(X_train, y_train)"
   ]
  },
  {
   "cell_type": "code",
   "execution_count": 15,
   "metadata": {},
   "outputs": [
    {
     "data": {
      "text/html": [
       "<div>\n",
       "<style scoped>\n",
       "    .dataframe tbody tr th:only-of-type {\n",
       "        vertical-align: middle;\n",
       "    }\n",
       "\n",
       "    .dataframe tbody tr th {\n",
       "        vertical-align: top;\n",
       "    }\n",
       "\n",
       "    .dataframe thead th {\n",
       "        text-align: right;\n",
       "    }\n",
       "</style>\n",
       "<table border=\"1\" class=\"dataframe\">\n",
       "  <thead>\n",
       "    <tr style=\"text-align: right;\">\n",
       "      <th></th>\n",
       "      <th>RMSE</th>\n",
       "    </tr>\n",
       "    <tr>\n",
       "      <th>Model</th>\n",
       "      <th></th>\n",
       "    </tr>\n",
       "  </thead>\n",
       "  <tbody>\n",
       "    <tr>\n",
       "      <th>Ensemble</th>\n",
       "      <td>8.844279</td>\n",
       "    </tr>\n",
       "  </tbody>\n",
       "</table>\n",
       "</div>"
      ],
      "text/plain": [
       "              RMSE\n",
       "Model             \n",
       "Ensemble  8.844279"
      ]
     },
     "execution_count": 15,
     "metadata": {},
     "output_type": "execute_result"
    }
   ],
   "source": [
    "y_pred = model.predict(X_test)\n",
    "results = {}\n",
    "results[\"Model\"] = [\"Ensemble\"]\n",
    "results[\"RMSE\"] = [mean_squared_error(y_test, y_pred, squared=False)]\n",
    "\n",
    "pd.DataFrame(results).set_index(\"Model\")"
   ]
  },
  {
   "cell_type": "markdown",
   "metadata": {},
   "source": [
    "## Step6: Discuss your results. Are you getting better results with ensemble models compared to the individual climate models? "
   ]
  },
  {
   "cell_type": "code",
   "execution_count": 16,
   "metadata": {},
   "outputs": [
    {
     "data": {
      "text/html": [
       "<div>\n",
       "<style scoped>\n",
       "    .dataframe tbody tr th:only-of-type {\n",
       "        vertical-align: middle;\n",
       "    }\n",
       "\n",
       "    .dataframe tbody tr th {\n",
       "        vertical-align: top;\n",
       "    }\n",
       "\n",
       "    .dataframe thead th {\n",
       "        text-align: right;\n",
       "    }\n",
       "</style>\n",
       "<table border=\"1\" class=\"dataframe\">\n",
       "  <thead>\n",
       "    <tr style=\"text-align: right;\">\n",
       "      <th></th>\n",
       "      <th>RMSE</th>\n",
       "    </tr>\n",
       "    <tr>\n",
       "      <th>Model</th>\n",
       "      <th></th>\n",
       "    </tr>\n",
       "  </thead>\n",
       "  <tbody>\n",
       "    <tr>\n",
       "      <th>Ensemble</th>\n",
       "      <td>8.844279</td>\n",
       "    </tr>\n",
       "    <tr>\n",
       "      <th>KIOST-ESM</th>\n",
       "      <td>9.600480</td>\n",
       "    </tr>\n",
       "    <tr>\n",
       "      <th>FGOALS-g3</th>\n",
       "      <td>9.687788</td>\n",
       "    </tr>\n",
       "    <tr>\n",
       "      <th>MRI-ESM2-0</th>\n",
       "      <td>9.922795</td>\n",
       "    </tr>\n",
       "    <tr>\n",
       "      <th>MPI-ESM1-2-HR</th>\n",
       "      <td>9.969823</td>\n",
       "    </tr>\n",
       "    <tr>\n",
       "      <th>NESM3</th>\n",
       "      <td>9.978137</td>\n",
       "    </tr>\n",
       "    <tr>\n",
       "      <th>MPI-ESM1-2-LR</th>\n",
       "      <td>10.260886</td>\n",
       "    </tr>\n",
       "    <tr>\n",
       "      <th>NorESM2-LM</th>\n",
       "      <td>10.410145</td>\n",
       "    </tr>\n",
       "    <tr>\n",
       "      <th>EC-Earth3-Veg-LR</th>\n",
       "      <td>10.453606</td>\n",
       "    </tr>\n",
       "    <tr>\n",
       "      <th>GFDL-CM4</th>\n",
       "      <td>10.511682</td>\n",
       "    </tr>\n",
       "    <tr>\n",
       "      <th>BCC-ESM1</th>\n",
       "      <td>10.615578</td>\n",
       "    </tr>\n",
       "    <tr>\n",
       "      <th>CMCC-CM2-HR4</th>\n",
       "      <td>10.643204</td>\n",
       "    </tr>\n",
       "    <tr>\n",
       "      <th>ACCESS-ESM1-5</th>\n",
       "      <td>10.695305</td>\n",
       "    </tr>\n",
       "    <tr>\n",
       "      <th>BCC-CSM2-MR</th>\n",
       "      <td>10.761381</td>\n",
       "    </tr>\n",
       "    <tr>\n",
       "      <th>MPI-ESM-1-2-HAM</th>\n",
       "      <td>10.932004</td>\n",
       "    </tr>\n",
       "    <tr>\n",
       "      <th>NorESM2-MM</th>\n",
       "      <td>10.939740</td>\n",
       "    </tr>\n",
       "    <tr>\n",
       "      <th>AWI-ESM-1-1-LR</th>\n",
       "      <td>10.996616</td>\n",
       "    </tr>\n",
       "    <tr>\n",
       "      <th>ACCESS-CM2</th>\n",
       "      <td>11.038999</td>\n",
       "    </tr>\n",
       "    <tr>\n",
       "      <th>CanESM5</th>\n",
       "      <td>11.151318</td>\n",
       "    </tr>\n",
       "    <tr>\n",
       "      <th>CMCC-ESM2</th>\n",
       "      <td>11.246493</td>\n",
       "    </tr>\n",
       "    <tr>\n",
       "      <th>MIROC6</th>\n",
       "      <td>11.352976</td>\n",
       "    </tr>\n",
       "    <tr>\n",
       "      <th>INM-CM4-8</th>\n",
       "      <td>11.451635</td>\n",
       "    </tr>\n",
       "    <tr>\n",
       "      <th>CMCC-CM2-SR5</th>\n",
       "      <td>11.480614</td>\n",
       "    </tr>\n",
       "    <tr>\n",
       "      <th>TaiESM1</th>\n",
       "      <td>11.528083</td>\n",
       "    </tr>\n",
       "    <tr>\n",
       "      <th>SAM0-UNICON</th>\n",
       "      <td>11.678749</td>\n",
       "    </tr>\n",
       "    <tr>\n",
       "      <th>INM-CM5-0</th>\n",
       "      <td>12.250223</td>\n",
       "    </tr>\n",
       "  </tbody>\n",
       "</table>\n",
       "</div>"
      ],
      "text/plain": [
       "                       RMSE\n",
       "Model                      \n",
       "Ensemble           8.844279\n",
       "KIOST-ESM          9.600480\n",
       "FGOALS-g3          9.687788\n",
       "MRI-ESM2-0         9.922795\n",
       "MPI-ESM1-2-HR      9.969823\n",
       "NESM3              9.978137\n",
       "MPI-ESM1-2-LR     10.260886\n",
       "NorESM2-LM        10.410145\n",
       "EC-Earth3-Veg-LR  10.453606\n",
       "GFDL-CM4          10.511682\n",
       "BCC-ESM1          10.615578\n",
       "CMCC-CM2-HR4      10.643204\n",
       "ACCESS-ESM1-5     10.695305\n",
       "BCC-CSM2-MR       10.761381\n",
       "MPI-ESM-1-2-HAM   10.932004\n",
       "NorESM2-MM        10.939740\n",
       "AWI-ESM-1-1-LR    10.996616\n",
       "ACCESS-CM2        11.038999\n",
       "CanESM5           11.151318\n",
       "CMCC-ESM2         11.246493\n",
       "MIROC6            11.352976\n",
       "INM-CM4-8         11.451635\n",
       "CMCC-CM2-SR5      11.480614\n",
       "TaiESM1           11.528083\n",
       "SAM0-UNICON       11.678749\n",
       "INM-CM5-0         12.250223"
      ]
     },
     "execution_count": 16,
     "metadata": {},
     "output_type": "execute_result"
    }
   ],
   "source": [
    "for column in X_test.columns:\n",
    "    results[\"Model\"].append(column)\n",
    "    results[\"RMSE\"].append(mean_squared_error(y_test, X_test[column], squared=False))\n",
    "\n",
    "rmse_df = pd.DataFrame(results).set_index(\"Model\").sort_values(\"RMSE\")\n",
    "rmse_df"
   ]
  },
  {
   "cell_type": "markdown",
   "metadata": {},
   "source": [
    "**observation**\n",
    "\n",
    "We calculated the `RMSE` of all models on the test data frame and put them in ascending order. By comparing the `RMSE` values for these models in addition to our `ensemble` model, we can see that the `RMSE` for the `ensemble` model is the lowest, indicating that the `ensemble` model performs better than any of the individual models in predicting the rainfall in Sidney."
   ]
  },
  {
   "cell_type": "markdown",
   "metadata": {},
   "source": [
    "## Part 2:"
   ]
  },
  {
   "cell_type": "markdown",
   "metadata": {},
   "source": [
    "### Preparation for deploying model next week"
   ]
  },
  {
   "cell_type": "markdown",
   "metadata": {},
   "source": [
    "***NOTE: Complete task 4 from the milestone3 before coming here***"
   ]
  },
  {
   "cell_type": "markdown",
   "metadata": {},
   "source": [
    "We’ve found the best hyperparameter settings with MLlib (from the task 4 from milestone3), here we then use the same hyperparameters to train a scikit-learn model. "
   ]
  },
  {
   "cell_type": "code",
   "execution_count": null,
   "metadata": {},
   "outputs": [],
   "source": [
    "model = RandomForestRegressor(n_estimators=___, max_depth=___)\n",
    "model.fit(X_train, y_train)"
   ]
  },
  {
   "cell_type": "code",
   "execution_count": null,
   "metadata": {},
   "outputs": [],
   "source": [
    "print(f\"Train RMSE: {mean_squared_error(y_train, model.predict(X_train), squared=False):.2f}\")\n",
    "print(f\" Test RMSE: {mean_squared_error(y_test, model.predict(X_test), squared=False):.2f}\")"
   ]
  },
  {
   "cell_type": "code",
   "execution_count": 28,
   "metadata": {},
   "outputs": [
    {
     "data": {
      "text/plain": [
       "['model.joblib']"
      ]
     },
     "execution_count": 28,
     "metadata": {},
     "output_type": "execute_result"
    }
   ],
   "source": [
    "# ready to deploy\n",
    "dump(model, \"model.joblib\")"
   ]
  },
  {
   "cell_type": "markdown",
   "metadata": {},
   "source": [
    "***Upload model.joblib to s3 under output folder. You choose how you want to upload it (using CLI, SDK, or web console).***"
   ]
  }
 ],
 "metadata": {
  "kernelspec": {
   "display_name": "Python 3",
   "language": "python",
   "name": "python3"
  },
  "language_info": {
   "codemirror_mode": {
    "name": "ipython",
    "version": 3
   },
   "file_extension": ".py",
   "mimetype": "text/x-python",
   "name": "python",
   "nbconvert_exporter": "python",
   "pygments_lexer": "ipython3",
   "version": "3.9.5"
  }
 },
 "nbformat": 4,
 "nbformat_minor": 4
}
