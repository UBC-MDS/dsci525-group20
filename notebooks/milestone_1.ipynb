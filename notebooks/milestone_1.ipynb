{
 "cells": [
  {
   "cell_type": "markdown",
   "id": "77610257-144a-40bf-b433-533e008faab0",
   "metadata": {},
   "source": [
    "### Import libraries"
   ]
  },
  {
   "cell_type": "code",
   "execution_count": 1,
   "id": "b0b14a1d-17a4-4d6d-89ef-db3040caa07d",
   "metadata": {},
   "outputs": [],
   "source": [
    "import re\n",
    "import os\n",
    "import glob\n",
    "import zipfile\n",
    "import requests\n",
    "from urllib.request import urlretrieve\n",
    "import json\n",
    "import pandas as pd"
   ]
  },
  {
   "cell_type": "markdown",
   "id": "9a9c35a6-455d-488c-aa54-7649290204db",
   "metadata": {},
   "source": [
    "### Global variables"
   ]
  },
  {
   "cell_type": "code",
   "execution_count": 5,
   "id": "a151acb7-8f37-4cfe-838d-672559b06e77",
   "metadata": {},
   "outputs": [],
   "source": [
    "article_id = 14096681\n",
    "url = f\"https://api.figshare.com/v2/articles/{article_id}\"\n",
    "headers = {\"Content-Type\": \"application/json\"}\n",
    "raw_data_directory = \"../data/raw/\"\n",
    "unzip_directory = \"../data/unzip\"\n",
    "combined_directory = \"../data/combined\"\n",
    "files_to_dl = [\"data.zip\"]\n",
    "dtypes = {\n",
    "    \"lat_min\": \"float32\",\n",
    "    \"lat_max\": \"float32\",\n",
    "    \"lon_min\": \"float32\",\n",
    "    \"lon_max\": \"float32\",\n",
    "    \"rain (mm/day)\": \"float32\",\n",
    "    \"model\": \"str\",\n",
    "}"
   ]
  },
  {
   "cell_type": "markdown",
   "id": "be7cdb27-672c-4847-8b8b-d2ae43c192d7",
   "metadata": {},
   "source": [
    "### Check files from API"
   ]
  },
  {
   "cell_type": "code",
   "execution_count": 3,
   "id": "04c4df76-01a5-411f-828d-220f53ae3481",
   "metadata": {},
   "outputs": [
    {
     "data": {
      "text/plain": [
       "[{'id': 26579150,\n",
       "  'name': 'daily_rainfall_2014.png',\n",
       "  'size': 58863,\n",
       "  'is_link_only': False,\n",
       "  'download_url': 'https://ndownloader.figshare.com/files/26579150',\n",
       "  'supplied_md5': 'fd32a2ffde300a31f8d63b1825d47e5e',\n",
       "  'computed_md5': 'fd32a2ffde300a31f8d63b1825d47e5e'},\n",
       " {'id': 26579171,\n",
       "  'name': 'environment.yml',\n",
       "  'size': 192,\n",
       "  'is_link_only': False,\n",
       "  'download_url': 'https://ndownloader.figshare.com/files/26579171',\n",
       "  'supplied_md5': '060b2020017eed93a1ee7dd8c65b2f34',\n",
       "  'computed_md5': '060b2020017eed93a1ee7dd8c65b2f34'},\n",
       " {'id': 26586554,\n",
       "  'name': 'README.md',\n",
       "  'size': 5422,\n",
       "  'is_link_only': False,\n",
       "  'download_url': 'https://ndownloader.figshare.com/files/26586554',\n",
       "  'supplied_md5': '61858c6cc0e6a6d6663a7e4c75bbd88c',\n",
       "  'computed_md5': '61858c6cc0e6a6d6663a7e4c75bbd88c'},\n",
       " {'id': 26766812,\n",
       "  'name': 'data.zip',\n",
       "  'size': 814041183,\n",
       "  'is_link_only': False,\n",
       "  'download_url': 'https://ndownloader.figshare.com/files/26766812',\n",
       "  'supplied_md5': 'b517383f76e77bd03755a63a8ff83ee9',\n",
       "  'computed_md5': 'b517383f76e77bd03755a63a8ff83ee9'},\n",
       " {'id': 26766815,\n",
       "  'name': 'get_data.py',\n",
       "  'size': 4113,\n",
       "  'is_link_only': False,\n",
       "  'download_url': 'https://ndownloader.figshare.com/files/26766815',\n",
       "  'supplied_md5': '7829028495fd9dec9680ea013474afa6',\n",
       "  'computed_md5': '7829028495fd9dec9680ea013474afa6'}]"
      ]
     },
     "execution_count": 3,
     "metadata": {},
     "output_type": "execute_result"
    }
   ],
   "source": [
    "response = requests.request(\"GET\", url, headers=headers)\n",
    "data = json.loads(response.text)\n",
    "files = data[\"files\"]\n",
    "files"
   ]
  },
  {
   "cell_type": "markdown",
   "id": "4c0d81c9-44bc-4fb6-b4df-c7f676da468d",
   "metadata": {},
   "source": [
    "### 3.1 Download file"
   ]
  },
  {
   "cell_type": "code",
   "execution_count": 4,
   "id": "67edad8a-4beb-486c-8d7d-7459fd8b7884",
   "metadata": {},
   "outputs": [
    {
     "name": "stdout",
     "output_type": "stream",
     "text": [
      "CPU times: user 5.66 s, sys: 4.85 s, total: 10.5 s\n",
      "Wall time: 1min 30s\n"
     ]
    }
   ],
   "source": [
    "%%time\n",
    "for file in files:\n",
    "    if file[\"name\"] in files_to_dl:\n",
    "        os.makedirs(raw_data_directory, exist_ok=True)\n",
    "        urlretrieve(file[\"download_url\"], raw_data_directory + file[\"name\"])"
   ]
  },
  {
   "cell_type": "markdown",
   "id": "8bf3bb6c-293e-419b-a30b-6ea6cbf02b82",
   "metadata": {},
   "source": [
    "### 3.2 Unzip the file"
   ]
  },
  {
   "cell_type": "code",
   "execution_count": 5,
   "id": "61656b1b-b30f-4d9d-85b5-ee9c72d34b95",
   "metadata": {},
   "outputs": [
    {
     "name": "stdout",
     "output_type": "stream",
     "text": [
      "CPU times: user 14.9 s, sys: 1.32 s, total: 16.2 s\n",
      "Wall time: 16.5 s\n"
     ]
    }
   ],
   "source": [
    "%%time\n",
    "os.makedirs(unzip_directory, exist_ok=True)\n",
    "with zipfile.ZipFile(os.path.join(raw_data_directory, \"data.zip\"), 'r') as f:\n",
    "    f.extractall(unzip_directory)"
   ]
  },
  {
   "cell_type": "markdown",
   "id": "e0f35897-7ef5-4cfd-997e-6144accaa1f8",
   "metadata": {},
   "source": [
    "### 4.0 Remove unnecessary csv"
   ]
  },
  {
   "cell_type": "code",
   "execution_count": 6,
   "id": "e328184c-be64-4fc5-b428-5233696ccc23",
   "metadata": {},
   "outputs": [],
   "source": [
    "os.remove(unzip_directory + \"/observed_daily_rainfall_SYD.csv\")"
   ]
  },
  {
   "cell_type": "markdown",
   "id": "c35434f9-a4e5-4f56-a55c-2de12410f2cf",
   "metadata": {},
   "source": [
    "### 4.1 Merge files"
   ]
  },
  {
   "cell_type": "code",
   "execution_count": 7,
   "id": "ff488760-815b-42c2-baa8-f1f67d34a13a",
   "metadata": {},
   "outputs": [
    {
     "name": "stdout",
     "output_type": "stream",
     "text": [
      "CPU times: user 6min 6s, sys: 8.24 s, total: 6min 14s\n",
      "Wall time: 6min 17s\n"
     ]
    }
   ],
   "source": [
    "%%time\n",
    "files = glob.glob(unzip_directory + '/*.csv')\n",
    "df = pd.concat((pd.read_csv(file, index_col=0)\n",
    "                .assign(model=re.findall(r'(?<=unzip\\/).+(?=_daily)', file)[0])\n",
    "                for file in files)\n",
    "              )\n",
    "os.makedirs(combined_directory, exist_ok=True)\n",
    "df.to_csv(combined_directory + \"/combined_data.csv\")"
   ]
  },
  {
   "cell_type": "code",
   "execution_count": 8,
   "id": "d5e28928-e7e5-4495-a578-6000c62affb3",
   "metadata": {},
   "outputs": [
    {
     "name": "stdout",
     "output_type": "stream",
     "text": [
      "5.6G\t../data/combined/combined_data.csv\n"
     ]
    }
   ],
   "source": [
    "%%sh\n",
    "du -sh ../data/combined/combined_data.csv"
   ]
  },
  {
   "cell_type": "markdown",
   "id": "24d28108-378e-4a08-abd6-23f849c0ea53",
   "metadata": {},
   "source": [
    "### 4.2 Time comparison of merging files"
   ]
  },
  {
   "cell_type": "markdown",
   "id": "bb94dae3-9544-4576-be09-8ac38de67ff5",
   "metadata": {},
   "source": [
    "| Team Member | Operating System | RAM | Processor | Is SSD | Time taken |\n",
    "|:-----------:|:----------------:|:---:|:---------:|:------:|:----------:|\n",
    "| Arushi Ahuja|                  |     |           |        |            |\n",
    "| Dongxiao Li |                  |     |           |        |            |\n",
    "| Simon Guo   | MacOS | 16GB | Apple M1 | Yes |    6min 17s      |\n",
    "| Thomas Siu  | MacOS | 16GB | Apple M1 | Yes |    6min 30s        |\n"
   ]
  },
  {
   "cell_type": "markdown",
   "id": "600df939-2c3a-49cd-bc1c-493e8b050f58",
   "metadata": {},
   "source": [
    "summarize the observations"
   ]
  },
  {
   "cell_type": "markdown",
   "id": "2d0d9962-4064-4372-bf92-e21ad8f1391e",
   "metadata": {},
   "source": [
    "### 5.1 Load the combined csv"
   ]
  },
  {
   "cell_type": "code",
   "execution_count": 9,
   "id": "bfa6ef96-96ba-41f0-bde9-6699cb4c8be5",
   "metadata": {},
   "outputs": [
    {
     "name": "stdout",
     "output_type": "stream",
     "text": [
      "CPU times: user 1min 4s, sys: 6.96 s, total: 1min 11s\n",
      "Wall time: 1min 15s\n"
     ]
    }
   ],
   "source": [
    "%%time\n",
    "df = pd.read_csv(combined_directory + \"/combined_data.csv\", parse_dates=['time'])"
   ]
  },
  {
   "cell_type": "markdown",
   "id": "e22b072a-32da-4677-8cb8-707db309505a",
   "metadata": {},
   "source": [
    "### 5.2 Time comparison of loading the combined csv"
   ]
  },
  {
   "cell_type": "markdown",
   "id": "b95d2fce-8c65-4d06-a513-6e7fd70a5d85",
   "metadata": {},
   "source": [
    "| Team Member | Operating System | RAM | Processor | Is SSD | Time taken |\n",
    "|:-----------:|:----------------:|:---:|:---------:|:------:|:----------:|\n",
    "| Arushi Ahuja|                  |     |           |        |            |\n",
    "| Dongxiao Li |                  |     |           |        |            |\n",
    "| Simon Guo   | MacOS | 16GB | Apple M1 | Yes |  1min 15s      |\n",
    "| Thomas Siu  | MacOS | 16GB | Apple M1 | Yes |  1min          |"
   ]
  },
  {
   "cell_type": "markdown",
   "id": "73d036f7-66a9-40b7-b5a9-3de69d57a77e",
   "metadata": {},
   "source": [
    "summarize the observations"
   ]
  },
  {
   "cell_type": "code",
   "execution_count": 12,
   "id": "0cd6cd8e-7559-443d-861b-919e47b87ebb",
   "metadata": {},
   "outputs": [
    {
     "data": {
      "text/html": [
       "<div>\n",
       "<style scoped>\n",
       "    .dataframe tbody tr th:only-of-type {\n",
       "        vertical-align: middle;\n",
       "    }\n",
       "\n",
       "    .dataframe tbody tr th {\n",
       "        vertical-align: top;\n",
       "    }\n",
       "\n",
       "    .dataframe thead th {\n",
       "        text-align: right;\n",
       "    }\n",
       "</style>\n",
       "<table border=\"1\" class=\"dataframe\">\n",
       "  <thead>\n",
       "    <tr style=\"text-align: right;\">\n",
       "      <th></th>\n",
       "      <th>time</th>\n",
       "      <th>lat_min</th>\n",
       "      <th>lat_max</th>\n",
       "      <th>lon_min</th>\n",
       "      <th>lon_max</th>\n",
       "      <th>rain (mm/day)</th>\n",
       "      <th>model</th>\n",
       "    </tr>\n",
       "  </thead>\n",
       "  <tbody>\n",
       "    <tr>\n",
       "      <th>0</th>\n",
       "      <td>1889-01-01 12:00:00</td>\n",
       "      <td>-35.439867</td>\n",
       "      <td>-33.574619</td>\n",
       "      <td>141.5625</td>\n",
       "      <td>143.4375</td>\n",
       "      <td>4.244226e-13</td>\n",
       "      <td>MPI-ESM-1-2-HAM</td>\n",
       "    </tr>\n",
       "    <tr>\n",
       "      <th>1</th>\n",
       "      <td>1889-01-02 12:00:00</td>\n",
       "      <td>-35.439867</td>\n",
       "      <td>-33.574619</td>\n",
       "      <td>141.5625</td>\n",
       "      <td>143.4375</td>\n",
       "      <td>4.217326e-13</td>\n",
       "      <td>MPI-ESM-1-2-HAM</td>\n",
       "    </tr>\n",
       "    <tr>\n",
       "      <th>2</th>\n",
       "      <td>1889-01-03 12:00:00</td>\n",
       "      <td>-35.439867</td>\n",
       "      <td>-33.574619</td>\n",
       "      <td>141.5625</td>\n",
       "      <td>143.4375</td>\n",
       "      <td>4.498125e-13</td>\n",
       "      <td>MPI-ESM-1-2-HAM</td>\n",
       "    </tr>\n",
       "    <tr>\n",
       "      <th>3</th>\n",
       "      <td>1889-01-04 12:00:00</td>\n",
       "      <td>-35.439867</td>\n",
       "      <td>-33.574619</td>\n",
       "      <td>141.5625</td>\n",
       "      <td>143.4375</td>\n",
       "      <td>4.251282e-13</td>\n",
       "      <td>MPI-ESM-1-2-HAM</td>\n",
       "    </tr>\n",
       "    <tr>\n",
       "      <th>4</th>\n",
       "      <td>1889-01-05 12:00:00</td>\n",
       "      <td>-35.439867</td>\n",
       "      <td>-33.574619</td>\n",
       "      <td>141.5625</td>\n",
       "      <td>143.4375</td>\n",
       "      <td>4.270161e-13</td>\n",
       "      <td>MPI-ESM-1-2-HAM</td>\n",
       "    </tr>\n",
       "  </tbody>\n",
       "</table>\n",
       "</div>"
      ],
      "text/plain": [
       "                 time    lat_min    lat_max   lon_min   lon_max  \\\n",
       "0 1889-01-01 12:00:00 -35.439867 -33.574619  141.5625  143.4375   \n",
       "1 1889-01-02 12:00:00 -35.439867 -33.574619  141.5625  143.4375   \n",
       "2 1889-01-03 12:00:00 -35.439867 -33.574619  141.5625  143.4375   \n",
       "3 1889-01-04 12:00:00 -35.439867 -33.574619  141.5625  143.4375   \n",
       "4 1889-01-05 12:00:00 -35.439867 -33.574619  141.5625  143.4375   \n",
       "\n",
       "   rain (mm/day)            model  \n",
       "0   4.244226e-13  MPI-ESM-1-2-HAM  \n",
       "1   4.217326e-13  MPI-ESM-1-2-HAM  \n",
       "2   4.498125e-13  MPI-ESM-1-2-HAM  \n",
       "3   4.251282e-13  MPI-ESM-1-2-HAM  \n",
       "4   4.270161e-13  MPI-ESM-1-2-HAM  "
      ]
     },
     "execution_count": 12,
     "metadata": {},
     "output_type": "execute_result"
    }
   ],
   "source": [
    "df.head()"
   ]
  },
  {
   "cell_type": "code",
   "execution_count": null,
   "id": "d086a49b-e2bb-4c3a-be46-86fa4fd8e4fa",
   "metadata": {},
   "outputs": [],
   "source": []
  },
  {
   "cell_type": "markdown",
   "id": "5d6141fc-47ba-4342-9c39-068e34aa1310",
   "metadata": {},
   "source": [
    "### 5.3 EDA"
   ]
  },
  {
   "cell_type": "code",
   "execution_count": 13,
   "id": "b0a7933f-b23f-42b5-a787-f05e757fbcb2",
   "metadata": {},
   "outputs": [
    {
     "data": {
      "text/plain": [
       "(62467843, 7)"
      ]
     },
     "execution_count": 13,
     "metadata": {},
     "output_type": "execute_result"
    }
   ],
   "source": [
    "df.shape"
   ]
  },
  {
   "cell_type": "code",
   "execution_count": 14,
   "id": "75a2e140-9c6d-43fc-b1ae-c2a966cc67f7",
   "metadata": {},
   "outputs": [
    {
     "name": "stdout",
     "output_type": "stream",
     "text": [
      "<class 'pandas.core.frame.DataFrame'>\n",
      "RangeIndex: 62467843 entries, 0 to 62467842\n",
      "Data columns (total 7 columns):\n",
      " #   Column         Dtype         \n",
      "---  ------         -----         \n",
      " 0   time           datetime64[ns]\n",
      " 1   lat_min        float64       \n",
      " 2   lat_max        float64       \n",
      " 3   lon_min        float64       \n",
      " 4   lon_max        float64       \n",
      " 5   rain (mm/day)  float64       \n",
      " 6   model          object        \n",
      "dtypes: datetime64[ns](1), float64(5), object(1)\n",
      "memory usage: 3.3+ GB\n"
     ]
    }
   ],
   "source": [
    "df.info()"
   ]
  },
  {
   "cell_type": "markdown",
   "id": "0519d50e-ab34-4c2b-a0b4-b574187adb37",
   "metadata": {},
   "source": [
    "### 6.1 Import R libraries"
   ]
  },
  {
   "cell_type": "code",
   "execution_count": 2,
   "id": "89d5fe2d-c6a2-449d-a7fc-abc5055870f0",
   "metadata": {},
   "outputs": [],
   "source": [
    "%load_ext rpy2.ipython"
   ]
  },
  {
   "cell_type": "markdown",
   "id": "f0d7b17d-87c8-4659-9c26-ccef4e9e2c45",
   "metadata": {},
   "source": [
    "// Run it in console in 525 environment\n",
    "\n",
    "conda install -c conda-forge r-dplyr\n",
    "\n",
    "// Uncomment and run the following block if ggplot2 not installed"
   ]
  },
  {
   "cell_type": "code",
   "execution_count": 7,
   "id": "96355f99-1c92-4df5-9ba3-0b49f0fd7018",
   "metadata": {},
   "outputs": [],
   "source": [
    "#%%R\n",
    "#install.packages(ggplot2)"
   ]
  },
  {
   "cell_type": "code",
   "execution_count": 3,
   "id": "8c56545d-d82c-4d02-b884-c82dbc03727b",
   "metadata": {},
   "outputs": [],
   "source": [
    "%%R\n",
    "suppressMessages(library(arrow, warn.conflicts = FALSE))\n",
    "suppressMessages(library(dplyr, warn.conflicts = FALSE))\n",
    "suppressMessages(library(ggplot2, warn.conflicts = FALSE))"
   ]
  },
  {
   "cell_type": "markdown",
   "id": "833f74ea-e7a3-4ca3-93e7-36598d55421f",
   "metadata": {},
   "source": [
    "### 6.2 Load data"
   ]
  },
  {
   "cell_type": "code",
   "execution_count": 18,
   "id": "ae87e020-5a6b-487b-993e-38ee54df8efb",
   "metadata": {},
   "outputs": [],
   "source": [
    "df.to_parquet(combined_directory + \"/combined_data.parquet\")"
   ]
  },
  {
   "cell_type": "code",
   "execution_count": 6,
   "id": "fe1b750c-327a-4cf4-b1f0-24a7f0cdff44",
   "metadata": {},
   "outputs": [
    {
     "name": "stdout",
     "output_type": "stream",
     "text": [
      "[1] 62467843\n"
     ]
    }
   ],
   "source": [
    "%%R -i combined_directory\n",
    "\n",
    "open_dataset(paste0(combined_directory, \"/combined_data.parquet\")) %>%\n",
    "  select(\"time\", \"rain (mm/day)\") %>%\n",
    "  collect() %>%\n",
    "  nrow()"
   ]
  },
  {
   "cell_type": "markdown",
   "id": "80d6c258-8766-4a50-bd96-d0954ca044ff",
   "metadata": {},
   "source": [
    "We have over 62 million rows! That is a lot of data for R to handle, and we will do some simple EDA to have some basic understanding of the data"
   ]
  },
  {
   "cell_type": "markdown",
   "id": "c641554a-850c-46a0-817a-fb7e61268d0f",
   "metadata": {},
   "source": [
    "### 6.3 EDA in R"
   ]
  },
  {
   "cell_type": "code",
   "execution_count": 12,
   "id": "7caf264a-d5df-4b6e-9845-213462b36349",
   "metadata": {},
   "outputs": [
    {
     "name": "stdout",
     "output_type": "stream",
     "text": [
      "      time                     rain (mm/day)    \n",
      " Min.   :1888-12-31 16:00:00   Min.   :  0      \n",
      " 1st Qu.:1920-07-02 04:00:00   1st Qu.:  0      \n",
      " Median :1952-01-01 04:00:00   Median :  0      \n",
      " Mean   :1952-01-01 08:32:08   Mean   :  2      \n",
      " 3rd Qu.:1983-07-02 05:00:00   3rd Qu.:  1      \n",
      " Max.   :2014-12-31 04:00:00   Max.   :433      \n",
      "                               NA's   :3219300  \n",
      "CPU times: user 1min, sys: 2.14 s, total: 1min 2s\n",
      "Wall time: 1min 1s\n"
     ]
    }
   ],
   "source": [
    "%%time\n",
    "%%R -i combined_directory\n",
    "\n",
    "df <- open_dataset(paste0(combined_directory, \"/combined_data.parquet\")) %>%\n",
    "  select(\"time\", \"rain (mm/day)\") %>%\n",
    "  collect()\n",
    "\n",
    "summary(df)"
   ]
  },
  {
   "cell_type": "code",
   "execution_count": 12,
   "id": "7dff5c60-9105-4fb2-98d7-d7d4be95423b",
   "metadata": {},
   "outputs": [
    {
     "name": "stdout",
     "output_type": "stream",
     "text": [
      "# A tibble: 27 × 3\n",
      "   model               n   Freq\n",
      "   <chr>           <int>  <dbl>\n",
      " 1 MPI-ESM1-2-HR 5154240 0.0825\n",
      " 2 CMCC-CM2-HR4  3541230 0.0567\n",
      " 3 CMCC-CM2-SR5  3541230 0.0567\n",
      " 4 CMCC-ESM2     3541230 0.0567\n",
      " 5 NorESM2-MM    3541230 0.0567\n",
      " 6 TaiESM1       3541230 0.0567\n",
      " 7 SAM0-UNICON   3541153 0.0567\n",
      " 8 FGOALS-f3-L   3219300 0.0515\n",
      " 9 GFDL-CM4      3219300 0.0515\n",
      "10 GFDL-ESM4     3219300 0.0515\n",
      "# … with 17 more rows\n",
      "CPU times: user 4.31 s, sys: 1.59 s, total: 5.9 s\n",
      "Wall time: 5.1 s\n"
     ]
    }
   ],
   "source": [
    "%%time\n",
    "%%R -i combined_directory\n",
    "\n",
    "df <- open_dataset(paste0(combined_directory, \"/combined_data.parquet\")) %>%\n",
    "  select(time, model) %>%\n",
    "  collect() %>%\n",
    "  group_by(model) %>%\n",
    "  summarise(n = n()) %>%\n",
    "  mutate(Freq = n/sum(n)) %>%\n",
    "  arrange(desc(Freq))"
   ]
  },
  {
   "cell_type": "code",
   "execution_count": 23,
   "id": "825115df-2243-4eb3-affc-74e9ee6d3a79",
   "metadata": {},
   "outputs": [
    {
     "data": {
      "image/png": "[encoded data removed]"
     },
     "metadata": {},
     "output_type": "display_data"
    }
   ],
   "source": [
    "%%R -w 500 -h 375\n",
    "\n",
    "df %>%\n",
    "  ggplot(aes(x = Freq, y = reorder(model, -n))) +\n",
    "  geom_bar(stat = 'identity') +\n",
    "  labs(x = \"Frequency Ratio\", y = \"Models\", title = \"Models Histogram\")"
   ]
  },
  {
   "cell_type": "markdown",
   "id": "cf3a86c5-bda0-4be2-af24-397aff63e428",
   "metadata": {},
   "source": [
    "### 6.4 Discussions"
   ]
  },
  {
   "cell_type": "markdown",
   "id": "8e47b805-c9cb-47b7-b634-6da57808a0b2",
   "metadata": {},
   "source": [
    "Discuss why you chose this approach over others.\n",
    "\n",
    "- [Parquet file](http://parquet.apache.org) and \n",
    "    - As mentioned in class, most of the time is spent on the serialization and de-serialization process.\n",
    "- [Feather file](https://arrow.apache.org/docs/python/feather.html)\n",
    "- [Pandas exchange](https://rpy2.github.io/doc/latest/html/interactive.html)\n",
    "- [Arrow exchange](https://github.com/rpy2/rpy2-arrow)\n",
    "    - Arrow with parquet is the way to go; as it does not leverage the power of parquet format to make the loading process faster, but it also uses the arrow format to reduce the time spent on converting in between python and R data"
   ]
  },
  {
   "cell_type": "markdown",
   "id": "f40839cd-f28c-41ae-8073-6918c320a9dd",
   "metadata": {},
   "source": [
    "### 7. Challenges and Difficulties"
   ]
  },
  {
   "cell_type": "markdown",
   "id": "e23f66e2-21e4-4fd0-9db7-02662cd82a4d",
   "metadata": {},
   "source": [
    "Discuss any challenges or difficulties you faced when dealing with this large amount of data on your laptops. Briefly explain your approach to overcome the challenges or reasons why you could not overcome them."
   ]
  }
 ],
 "metadata": {
  "kernelspec": {
   "display_name": "Python [conda env:525_2022]",
   "language": "python",
   "name": "conda-env-525_2022-py"
  },
  "language_info": {
   "codemirror_mode": {
    "name": "ipython",
    "version": 3
   },
   "file_extension": ".py",
   "mimetype": "text/x-python",
   "name": "python",
   "nbconvert_exporter": "python",
   "pygments_lexer": "ipython3",
   "version": "3.8.6"
  },
  "widgets": {
   "application/vnd.jupyter.widget-state+json": {
    "state": {},
    "version_major": 2,
    "version_minor": 0
   }
  }
 },
 "nbformat": 4,
 "nbformat_minor": 5
}
