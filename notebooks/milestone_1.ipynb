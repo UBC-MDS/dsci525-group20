{
 "cells": [
  {
   "cell_type": "markdown",
   "id": "77610257-144a-40bf-b433-533e008faab0",
   "metadata": {},
   "source": [
    "### Import libraries"
   ]
  },
  {
   "cell_type": "code",
   "execution_count": 1,
   "id": "b0b14a1d-17a4-4d6d-89ef-db3040caa07d",
   "metadata": {},
   "outputs": [],
   "source": [
    "import re\n",
    "import os\n",
    "import glob\n",
    "import zipfile\n",
    "import requests\n",
    "from urllib.request import urlretrieve\n",
    "import json\n",
    "import pandas as pd"
   ]
  },
  {
   "cell_type": "markdown",
   "id": "9a9c35a6-455d-488c-aa54-7649290204db",
   "metadata": {},
   "source": [
    "### Global variables"
   ]
  },
  {
   "cell_type": "code",
   "execution_count": 2,
   "id": "a151acb7-8f37-4cfe-838d-672559b06e77",
   "metadata": {},
   "outputs": [],
   "source": [
    "article_id = 14096681\n",
    "url = f\"https://api.figshare.com/v2/articles/{article_id}\"\n",
    "headers = {\"Content-Type\": \"application/json\"}\n",
    "raw_data_directory = \"../data/raw/\"\n",
    "unzip_directory = \"../data/unzip\"\n",
    "combined_directory = \"../data/combined\"\n",
    "files_to_dl = [\"data.zip\"]\n",
    "dtypes = {\n",
    "    \"lat_min\": \"float16\",\n",
    "    \"lat_max\": \"float16\",\n",
    "    \"lon_min\": \"float16\",\n",
    "    \"lon_max\": \"float16\",\n",
    "    \"rain (mm/day)\": \"float16\",\n",
    "    \"model\": \"str\",\n",
    "}"
   ]
  },
  {
   "cell_type": "markdown",
   "id": "be7cdb27-672c-4847-8b8b-d2ae43c192d7",
   "metadata": {},
   "source": [
    "### Check files from API"
   ]
  },
  {
   "cell_type": "code",
   "execution_count": 3,
   "id": "04c4df76-01a5-411f-828d-220f53ae3481",
   "metadata": {},
   "outputs": [
    {
     "data": {
      "text/plain": [
       "[{'id': 26579150,\n",
       "  'name': 'daily_rainfall_2014.png',\n",
       "  'size': 58863,\n",
       "  'is_link_only': False,\n",
       "  'download_url': 'https://ndownloader.figshare.com/files/26579150',\n",
       "  'supplied_md5': 'fd32a2ffde300a31f8d63b1825d47e5e',\n",
       "  'computed_md5': 'fd32a2ffde300a31f8d63b1825d47e5e'},\n",
       " {'id': 26579171,\n",
       "  'name': 'environment.yml',\n",
       "  'size': 192,\n",
       "  'is_link_only': False,\n",
       "  'download_url': 'https://ndownloader.figshare.com/files/26579171',\n",
       "  'supplied_md5': '060b2020017eed93a1ee7dd8c65b2f34',\n",
       "  'computed_md5': '060b2020017eed93a1ee7dd8c65b2f34'},\n",
       " {'id': 26586554,\n",
       "  'name': 'README.md',\n",
       "  'size': 5422,\n",
       "  'is_link_only': False,\n",
       "  'download_url': 'https://ndownloader.figshare.com/files/26586554',\n",
       "  'supplied_md5': '61858c6cc0e6a6d6663a7e4c75bbd88c',\n",
       "  'computed_md5': '61858c6cc0e6a6d6663a7e4c75bbd88c'},\n",
       " {'id': 26766812,\n",
       "  'name': 'data.zip',\n",
       "  'size': 814041183,\n",
       "  'is_link_only': False,\n",
       "  'download_url': 'https://ndownloader.figshare.com/files/26766812',\n",
       "  'supplied_md5': 'b517383f76e77bd03755a63a8ff83ee9',\n",
       "  'computed_md5': 'b517383f76e77bd03755a63a8ff83ee9'},\n",
       " {'id': 26766815,\n",
       "  'name': 'get_data.py',\n",
       "  'size': 4113,\n",
       "  'is_link_only': False,\n",
       "  'download_url': 'https://ndownloader.figshare.com/files/26766815',\n",
       "  'supplied_md5': '7829028495fd9dec9680ea013474afa6',\n",
       "  'computed_md5': '7829028495fd9dec9680ea013474afa6'}]"
      ]
     },
     "execution_count": 3,
     "metadata": {},
     "output_type": "execute_result"
    }
   ],
   "source": [
    "response = requests.request(\"GET\", url, headers=headers)\n",
    "data = json.loads(response.text)\n",
    "files = data[\"files\"]\n",
    "files"
   ]
  },
  {
   "cell_type": "markdown",
   "id": "4c0d81c9-44bc-4fb6-b4df-c7f676da468d",
   "metadata": {},
   "source": [
    "### 3.1 Download file"
   ]
  },
  {
   "cell_type": "code",
   "execution_count": 4,
   "id": "67edad8a-4beb-486c-8d7d-7459fd8b7884",
   "metadata": {},
   "outputs": [
    {
     "name": "stdout",
     "output_type": "stream",
     "text": [
      "CPU times: user 5.37 s, sys: 4.88 s, total: 10.3 s\n",
      "Wall time: 2min 10s\n"
     ]
    }
   ],
   "source": [
    "%%time\n",
    "for file in files:\n",
    "    if file[\"name\"] in files_to_dl:\n",
    "        os.makedirs(raw_data_directory, exist_ok=True)\n",
    "        urlretrieve(file[\"download_url\"], raw_data_directory + file[\"name\"])"
   ]
  },
  {
   "cell_type": "markdown",
   "id": "8bf3bb6c-293e-419b-a30b-6ea6cbf02b82",
   "metadata": {},
   "source": [
    "### 3.2 Unzip the file"
   ]
  },
  {
   "cell_type": "code",
   "execution_count": 5,
   "id": "61656b1b-b30f-4d9d-85b5-ee9c72d34b95",
   "metadata": {},
   "outputs": [
    {
     "name": "stdout",
     "output_type": "stream",
     "text": [
      "CPU times: user 22.9 s, sys: 5.19 s, total: 28.1 s\n",
      "Wall time: 32.1 s\n"
     ]
    }
   ],
   "source": [
    "%%time\n",
    "os.makedirs(unzip_directory, exist_ok=True)\n",
    "with zipfile.ZipFile(os.path.join(raw_data_directory, \"data.zip\"), 'r') as f:\n",
    "    f.extractall(unzip_directory)"
   ]
  },
  {
   "cell_type": "markdown",
   "id": "e0f35897-7ef5-4cfd-997e-6144accaa1f8",
   "metadata": {},
   "source": [
    "### 4.0 Remove unnecessary csv"
   ]
  },
  {
   "cell_type": "code",
   "execution_count": 6,
   "id": "e328184c-be64-4fc5-b428-5233696ccc23",
   "metadata": {},
   "outputs": [],
   "source": [
    "os.remove(unzip_directory + \"/observed_daily_rainfall_SYD.csv\")"
   ]
  },
  {
   "cell_type": "markdown",
   "id": "c35434f9-a4e5-4f56-a55c-2de12410f2cf",
   "metadata": {},
   "source": [
    "### 4.1 Merge files"
   ]
  },
  {
   "cell_type": "code",
   "execution_count": 7,
   "id": "ff488760-815b-42c2-baa8-f1f67d34a13a",
   "metadata": {},
   "outputs": [
    {
     "name": "stdout",
     "output_type": "stream",
     "text": [
      "CPU times: user 8min 39s, sys: 29.7 s, total: 9min 8s\n",
      "Wall time: 9min 36s\n"
     ]
    }
   ],
   "source": [
    "%%time\n",
    "files = glob.glob(unzip_directory + '/*.csv')\n",
    "df = pd.concat((pd.read_csv(file, index_col=0)\n",
    "                .assign(model=re.findall(r'(?<=unzip\\/).+(?=_daily)', file)[0])\n",
    "                for file in files)\n",
    "              )\n",
    "os.makedirs(combined_directory, exist_ok=True)\n",
    "df.to_csv(combined_directory + \"/combined_data.csv\")"
   ]
  },
  {
   "cell_type": "code",
   "execution_count": 9,
   "id": "d5e28928-e7e5-4495-a578-6000c62affb3",
   "metadata": {},
   "outputs": [
    {
     "name": "stdout",
     "output_type": "stream",
     "text": [
      "5.6G\t../data/combined/combined_data.csv\n"
     ]
    }
   ],
   "source": [
    "%%sh\n",
    "du -sh ../data/combined/combined_data.csv"
   ]
  },
  {
   "cell_type": "markdown",
   "id": "24d28108-378e-4a08-abd6-23f849c0ea53",
   "metadata": {},
   "source": [
    "### 4.2 Time comparison of merging files"
   ]
  },
  {
   "cell_type": "markdown",
   "id": "bb94dae3-9544-4576-be09-8ac38de67ff5",
   "metadata": {},
   "source": [
    "| Team Member | Operating System | RAM | Processor | Is SSD | Time taken |\n",
    "|:-----------:|:----------------:|:---:|:---------:|:------:|:----------:|\n",
    "| Arushi Ahuja| MacOs | 8GB | Intel Core i5 | Yes| 9 min 36s |\n",
    "| Dongxiao Li |                  |     |           |        |            |\n",
    "| Simon Guo   |                  |     |           |        |            |\n",
    "| Thomas Siu  | MacOS | 16GB | Apple M1 | Yes |    6min 30s        |\n"
   ]
  },
  {
   "cell_type": "markdown",
   "id": "600df939-2c3a-49cd-bc1c-493e8b050f58",
   "metadata": {},
   "source": [
    "summarize the observations"
   ]
  },
  {
   "cell_type": "markdown",
   "id": "2d0d9962-4064-4372-bf92-e21ad8f1391e",
   "metadata": {},
   "source": [
    "### 5.1.1 Load the combined csv (changing dtype) and EDA"
   ]
  },
  {
   "cell_type": "code",
   "execution_count": 16,
   "id": "bfa6ef96-96ba-41f0-bde9-6699cb4c8be5",
   "metadata": {},
   "outputs": [
    {
     "name": "stdout",
     "output_type": "stream",
     "text": [
      "MPI-ESM1-2-HR       5154240\n",
      "CMCC-CM2-HR4        3541230\n",
      "CMCC-ESM2           3541230\n",
      "CMCC-CM2-SR5        3541230\n",
      "NorESM2-MM          3541230\n",
      "TaiESM1             3541230\n",
      "SAM0-UNICON         3541153\n",
      "GFDL-ESM4           3219300\n",
      "FGOALS-f3-L         3219300\n",
      "GFDL-CM4            3219300\n",
      "MRI-ESM2-0          3037320\n",
      "EC-Earth3-Veg-LR    3037320\n",
      "BCC-CSM2-MR         3035340\n",
      "MIROC6              2070900\n",
      "ACCESS-CM2          1932840\n",
      "ACCESS-ESM1-5       1610700\n",
      "INM-CM4-8           1609650\n",
      "INM-CM5-0           1609650\n",
      "FGOALS-g3           1287720\n",
      "KIOST-ESM           1287720\n",
      "AWI-ESM-1-1-LR       966420\n",
      "MPI-ESM1-2-LR        966420\n",
      "NESM3                966420\n",
      "MPI-ESM-1-2-HAM      966420\n",
      "NorESM2-LM           919800\n",
      "BCC-ESM1             551880\n",
      "CanESM5              551880\n",
      "Name: model, dtype: int64\n",
      "CPU times: user 1min 30s, sys: 13.6 s, total: 1min 44s\n",
      "Wall time: 1min 57s\n"
     ]
    }
   ],
   "source": [
    "%%time\n",
    "df = pd.read_csv(combined_directory + \"/combined_data.csv\", parse_dates=['time'], dtype=dtypes)\n",
    "print(df[\"model\"].value_counts())"
   ]
  },
  {
   "cell_type": "markdown",
   "id": "e22b072a-32da-4677-8cb8-707db309505a",
   "metadata": {},
   "source": [
    "### 5.1.3 Time comparison"
   ]
  },
  {
   "cell_type": "markdown",
   "id": "b95d2fce-8c65-4d06-a513-6e7fd70a5d85",
   "metadata": {},
   "source": [
    "| Team Member | Operating System | RAM | Processor | Is SSD | Time taken |\n",
    "|:-----------:|:----------------:|:---:|:---------:|:------:|:----------:|\n",
    "| Arushi Ahuja| MacOs | 8GB | Intel Core i5 | Yes|  1 min 57s          |\n",
    "| Dongxiao Li |                  |     |           |        |            |\n",
    "| Simon Guo   |                  |     |           |        |            |\n",
    "| Thomas Siu  | MacOS | 16GB | Apple M1 | Yes |           |"
   ]
  },
  {
   "cell_type": "markdown",
   "id": "669cd8e7-f815-44a0-b3d1-14f4efde8332",
   "metadata": {},
   "source": [
    "### 5.2.1 Load the combined csv (Load just columns what we want) and EDA"
   ]
  },
  {
   "cell_type": "code",
   "execution_count": 18,
   "id": "6a8893fe-f1a4-4256-b688-33d2afda94ce",
   "metadata": {},
   "outputs": [
    {
     "name": "stdout",
     "output_type": "stream",
     "text": [
      "MPI-ESM1-2-HR       5154240\n",
      "CMCC-CM2-HR4        3541230\n",
      "CMCC-ESM2           3541230\n",
      "CMCC-CM2-SR5        3541230\n",
      "NorESM2-MM          3541230\n",
      "TaiESM1             3541230\n",
      "SAM0-UNICON         3541153\n",
      "GFDL-ESM4           3219300\n",
      "FGOALS-f3-L         3219300\n",
      "GFDL-CM4            3219300\n",
      "MRI-ESM2-0          3037320\n",
      "EC-Earth3-Veg-LR    3037320\n",
      "BCC-CSM2-MR         3035340\n",
      "MIROC6              2070900\n",
      "ACCESS-CM2          1932840\n",
      "ACCESS-ESM1-5       1610700\n",
      "INM-CM4-8           1609650\n",
      "INM-CM5-0           1609650\n",
      "FGOALS-g3           1287720\n",
      "KIOST-ESM           1287720\n",
      "AWI-ESM-1-1-LR       966420\n",
      "MPI-ESM1-2-LR        966420\n",
      "NESM3                966420\n",
      "MPI-ESM-1-2-HAM      966420\n",
      "NorESM2-LM           919800\n",
      "BCC-ESM1             551880\n",
      "CanESM5              551880\n",
      "Name: model, dtype: int64\n",
      "CPU times: user 4.99 s, sys: 413 ms, total: 5.41 s\n",
      "Wall time: 5.53 s\n"
     ]
    }
   ],
   "source": [
    "%%time\n",
    "df = df.drop(columns = [\"lat_min\", \"lat_max\", \"lon_min\", \"lon_max\"])\n",
    "print(df[\"model\"].value_counts())"
   ]
  },
  {
   "cell_type": "markdown",
   "id": "5b9fe5f5-4e88-427e-8bf1-a8e105ab5bc0",
   "metadata": {},
   "source": [
    "### 5.2.3 Time comparison"
   ]
  },
  {
   "cell_type": "markdown",
   "id": "4bc4c439-cdf4-43dd-93ee-d51318b6d446",
   "metadata": {},
   "source": [
    "| Team Member | Operating System | RAM | Processor | Is SSD | Time taken |\n",
    "|:-----------:|:----------------:|:---:|:---------:|:------:|:----------:|\n",
    "| Arushi Ahuja| MacOs | 8GB | Intel Core i5 | Yes| 5.41 s           |\n",
    "| Dongxiao Li |                  |     |           |        |            |\n",
    "| Simon Guo   |                  |     |           |        |            |\n",
    "| Thomas Siu  | MacOS | 16GB | Apple M1 | Yes |          |"
   ]
  },
  {
   "cell_type": "markdown",
   "id": "8a19f655-73f6-4207-b5b2-08a41d9dbc13",
   "metadata": {},
   "source": [
    "### 5.3 Summary and observations"
   ]
  },
  {
   "cell_type": "markdown",
   "id": "73d036f7-66a9-40b7-b5a9-3de69d57a77e",
   "metadata": {},
   "source": [
    "summary the observations"
   ]
  },
  {
   "cell_type": "code",
   "execution_count": null,
   "id": "d086a49b-e2bb-4c3a-be46-86fa4fd8e4fa",
   "metadata": {},
   "outputs": [],
   "source": []
  },
  {
   "cell_type": "markdown",
   "id": "0519d50e-ab34-4c2b-a0b4-b574187adb37",
   "metadata": {},
   "source": [
    "### 6.1 Import R libraries"
   ]
  },
  {
   "cell_type": "code",
   "execution_count": 11,
   "id": "89d5fe2d-c6a2-449d-a7fc-abc5055870f0",
   "metadata": {},
   "outputs": [
    {
     "name": "stdout",
     "output_type": "stream",
     "text": [
      "The rpy2.ipython extension is already loaded. To reload it, use:\n",
      "  %reload_ext rpy2.ipython\n"
     ]
    }
   ],
   "source": [
    "%load_ext rpy2.ipython"
   ]
  },
  {
   "cell_type": "markdown",
   "id": "f0d7b17d-87c8-4659-9c26-ccef4e9e2c45",
   "metadata": {},
   "source": [
    "// Run it in console in 525 environment\n",
    "\n",
    "conda install -c conda-forge r-dplyr"
   ]
  },
  {
   "cell_type": "code",
   "execution_count": 47,
   "id": "8c56545d-d82c-4d02-b884-c82dbc03727b",
   "metadata": {},
   "outputs": [],
   "source": [
    "%%R\n",
    "suppressMessages(library(arrow, warn.conflicts = FALSE))\n",
    "suppressMessages(library(dplyr, warn.conflicts = FALSE))"
   ]
  },
  {
   "cell_type": "markdown",
   "id": "833f74ea-e7a3-4ca3-93e7-36598d55421f",
   "metadata": {},
   "source": [
    "### 6.2 Transfer data to R"
   ]
  },
  {
   "cell_type": "code",
   "execution_count": null,
   "id": "edec8039-d8fa-4a0f-b397-d6e46a3e4f8d",
   "metadata": {},
   "outputs": [],
   "source": []
  },
  {
   "cell_type": "markdown",
   "id": "c641554a-850c-46a0-817a-fb7e61268d0f",
   "metadata": {},
   "source": [
    "### 6.3 EDA in R"
   ]
  },
  {
   "cell_type": "code",
   "execution_count": 2,
   "id": "629ef648-b37e-4aa9-aa64-d71d3eb6674a",
   "metadata": {},
   "outputs": [],
   "source": []
  },
  {
   "cell_type": "markdown",
   "id": "cf3a86c5-bda0-4be2-af24-397aff63e428",
   "metadata": {},
   "source": [
    "### 6.4 Discussions"
   ]
  },
  {
   "cell_type": "markdown",
   "id": "8e47b805-c9cb-47b7-b634-6da57808a0b2",
   "metadata": {},
   "source": [
    "Discuss why you chose this approach over others."
   ]
  },
  {
   "cell_type": "markdown",
   "id": "f40839cd-f28c-41ae-8073-6918c320a9dd",
   "metadata": {},
   "source": [
    "### 7. Challenges and Difficulties"
   ]
  },
  {
   "cell_type": "markdown",
   "id": "e23f66e2-21e4-4fd0-9db7-02662cd82a4d",
   "metadata": {},
   "source": [
    "Discuss any challenges or difficulties you faced when dealing with this large amount of data on your laptops. Briefly explain your approach to overcome the challenges or reasons why you could not overcome them."
   ]
  }
 ],
 "metadata": {
  "kernelspec": {
   "display_name": "Python [conda env:525_2022]",
   "language": "python",
   "name": "conda-env-525_2022-py"
  },
  "language_info": {
   "codemirror_mode": {
    "name": "ipython",
    "version": 3
   },
   "file_extension": ".py",
   "mimetype": "text/x-python",
   "name": "python",
   "nbconvert_exporter": "python",
   "pygments_lexer": "ipython3",
   "version": "3.8.6"
  }
 },
 "nbformat": 4,
 "nbformat_minor": 5
}
